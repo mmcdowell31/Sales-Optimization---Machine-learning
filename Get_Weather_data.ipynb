{
 "cells": [
  {
   "cell_type": "code",
   "execution_count": 1,
   "id": "ef964b0e-6f00-4f82-9fd4-3fa110a79ad2",
   "metadata": {},
   "outputs": [
    {
     "data": {
      "text/plain": [
       "<module 'NOAA' from 'C:\\\\Users\\\\mmcdo\\\\OneDrive - Georgia Institute of Technology\\\\Documents\\\\GATECH - Data Analytics\\\\ISYE 7406\\\\Project\\\\NOAA.py'>"
      ]
     },
     "execution_count": 1,
     "metadata": {},
     "output_type": "execute_result"
    }
   ],
   "source": [
    "import matplotlib.pyplot as plt\n",
    "import datetime\n",
    "import pandas as pd\n",
    "import numpy as np\n",
    "import seaborn as sns\n",
    "from pandas.plotting import register_matplotlib_converters\n",
    "\n",
    "from statsmodels.tsa.seasonal import MSTL\n",
    "from statsmodels.tsa.seasonal import DecomposeResult\n",
    "from tqdm import tqdm\n",
    "import requests\n",
    "import importlib\n",
    "import NOAA\n",
    "importlib.reload(NOAA)\n"
   ]
  },
  {
   "cell_type": "code",
   "execution_count": 2,
   "id": "f55147ff-bc72-4581-a003-aa2635679c84",
   "metadata": {},
   "outputs": [],
   "source": [
    "api_token = \"sxyXIHehvcZAUWtHvhgrcYDIMunQjlxL\"  # Replace with your actual token\n",
    "headers = {\"token\": api_token}\n",
    "url = \"https://www.ncdc.noaa.gov/cdo-web/api/v2/data\""
   ]
  },
  {
   "cell_type": "code",
   "execution_count": 3,
   "id": "7d0ad025-370c-4119-94e7-56ad78014426",
   "metadata": {},
   "outputs": [],
   "source": [
    "station_d = {'NYC' : \"GHCND:USW00094728\" , 'PHI' :'GHCND:USW00013739',\n",
    "             'SC':'GHCND:USC00368449','AA':'GHCND:USC00200228',\n",
    "            'OX': \"GHCND:USC00221389\",'STL': \"GHCND:USW00013994\"}\n",
    "data_type_list = [\"TMAX\", \"TMIN\", \"PRCP\", \"SNOW\"]\n",
    "reverse_station_d = {v: k for k, v in station_d.items()}"
   ]
  },
  {
   "cell_type": "code",
   "execution_count": 4,
   "id": "136289a4-485b-429b-85d3-468fb511a57e",
   "metadata": {},
   "outputs": [],
   "source": [
    "start = [\"2024-03-01\",\"2023-03-01\",\"2022-03-01\"]\n",
    "end = [\"2025-03-01\",\"2024-03-01\",\"2023-03-01\"]"
   ]
  },
  {
   "cell_type": "code",
   "execution_count": 22,
   "id": "dfc3a513-2d01-4a5e-90f7-acd9d36910df",
   "metadata": {},
   "outputs": [],
   "source": [
    "city_data = []"
   ]
  },
  {
   "cell_type": "markdown",
   "id": "faa03d90-c08b-44be-9e65-2349303b6c86",
   "metadata": {},
   "source": [
    "## NY Data"
   ]
  },
  {
   "cell_type": "code",
   "execution_count": 6,
   "id": "6097a02e-d772-484d-9bf1-b1c29fe292ff",
   "metadata": {},
   "outputs": [
    {
     "name": "stderr",
     "output_type": "stream",
     "text": [
      "100%|████████████████████████████████████████████████████████████████████████████████████| 4/4 [00:03<00:00,  1.09it/s]\n"
     ]
    }
   ],
   "source": [
    "nytemps = NOAA.get_noaa_data(station=station_d['NYC'], headers=headers, url=url,start = start, end = end)\n",
    "nytemps['station'] = nytemps['station'].map(reverse_station_d)\n",
    "city_data.append(nytemps)"
   ]
  },
  {
   "cell_type": "code",
   "execution_count": 7,
   "id": "fb38c62b-07e6-443a-bdd6-db84c9e43371",
   "metadata": {},
   "outputs": [],
   "source": [
    "# nytemps.info()\n",
    "# print(nytemps.describe())\n",
    "# nytemps.head()"
   ]
  },
  {
   "cell_type": "markdown",
   "id": "898571cd-46a4-4c16-9d56-d247a26ab919",
   "metadata": {},
   "source": [
    "## PHI Data"
   ]
  },
  {
   "cell_type": "code",
   "execution_count": 8,
   "id": "a919b65d-fbc7-46bf-82fd-bc200afe62a5",
   "metadata": {},
   "outputs": [
    {
     "name": "stderr",
     "output_type": "stream",
     "text": [
      "100%|████████████████████████████████████████████████████████████████████████████████████| 4/4 [00:03<00:00,  1.09it/s]\n"
     ]
    }
   ],
   "source": [
    "patemps = NOAA.get_noaa_data(station=station_d['PHI'], headers=headers, url=url,start = start, end = end)\n",
    "patemps['station'] = patemps['station'].map(reverse_station_d)\n",
    "city_data.append(patemps)"
   ]
  },
  {
   "cell_type": "code",
   "execution_count": 9,
   "id": "fdb70ec3-d87c-423e-a8fa-2ff04dc2ecb4",
   "metadata": {},
   "outputs": [],
   "source": [
    "# patemps.info()\n",
    "# print(patemps.describe())\n",
    "# patemps.head()"
   ]
  },
  {
   "cell_type": "markdown",
   "id": "74e341af-a360-4da0-9f3e-b4020f81c510",
   "metadata": {},
   "source": [
    "## State College (SC - PA)"
   ]
  },
  {
   "cell_type": "code",
   "execution_count": 10,
   "id": "4d6005c7-1ec1-4a39-b6d3-db6e5544c4dc",
   "metadata": {},
   "outputs": [
    {
     "name": "stderr",
     "output_type": "stream",
     "text": [
      "100%|████████████████████████████████████████████████████████████████████████████████████| 4/4 [00:03<00:00,  1.09it/s]\n"
     ]
    }
   ],
   "source": [
    "sctemps = NOAA.get_noaa_data(station=station_d['SC'], headers=headers, url=url,start = start, end = end)\n",
    "sctemps['station'] = sctemps['station'].map(reverse_station_d)\n",
    "city_data.append(sctemps)"
   ]
  },
  {
   "cell_type": "code",
   "execution_count": 11,
   "id": "c13e18ee-5117-42db-8561-9de4d1af8e0f",
   "metadata": {},
   "outputs": [],
   "source": [
    "# sctemps.info()\n",
    "# print(sctemps.describe())\n",
    "# sctemps.head()"
   ]
  },
  {
   "cell_type": "markdown",
   "id": "1c06a93e-bcec-46bf-86ae-6f9acfbb43b1",
   "metadata": {},
   "source": [
    "## Ann Arbor"
   ]
  },
  {
   "cell_type": "code",
   "execution_count": 12,
   "id": "f5ca6c86-bf77-4846-97ca-979aac402d42",
   "metadata": {},
   "outputs": [
    {
     "name": "stderr",
     "output_type": "stream",
     "text": [
      "100%|████████████████████████████████████████████████████████████████████████████████████| 4/4 [00:03<00:00,  1.08it/s]\n"
     ]
    }
   ],
   "source": [
    "aatemps = NOAA.get_noaa_data(station=station_d['AA'], headers=headers, url=url,start = start, end = end)\n",
    "aatemps['station'] = aatemps['station'].map(reverse_station_d)\n",
    "city_data.append(aatemps)"
   ]
  },
  {
   "cell_type": "code",
   "execution_count": 13,
   "id": "bc6048dd-c9fc-4877-adbb-b9ace6e6c1af",
   "metadata": {},
   "outputs": [],
   "source": [
    "# aatemps.info()\n",
    "# print(aatemps.describe())\n",
    "# aatemps.head()"
   ]
  },
  {
   "cell_type": "markdown",
   "id": "b182b334-811a-4322-9f24-c70849f34913",
   "metadata": {},
   "source": [
    "## Oxford"
   ]
  },
  {
   "cell_type": "code",
   "execution_count": 23,
   "id": "6028f146-28ce-4e32-b00e-5e5284ad5104",
   "metadata": {},
   "outputs": [
    {
     "name": "stderr",
     "output_type": "stream",
     "text": [
      " 75%|███████████████████████████████████████████████████████████████                     | 3/4 [00:02<00:00,  1.05it/s]"
     ]
    },
    {
     "name": "stdout",
     "output_type": "stream",
     "text": [
      "No data found for the given request.\n"
     ]
    },
    {
     "name": "stderr",
     "output_type": "stream",
     "text": [
      "100%|████████████████████████████████████████████████████████████████████████████████████| 4/4 [00:03<00:00,  1.07it/s]\n"
     ]
    }
   ],
   "source": [
    "oxtemps = NOAA.get_noaa_data(station=station_d['OX'], headers=headers, url=url,start = start, end = end)\n",
    "oxtemps['station'] = oxtemps['station'].map(reverse_station_d)\n",
    "city_data.append(oxtemps)"
   ]
  },
  {
   "cell_type": "code",
   "execution_count": null,
   "id": "53f23b89-5e20-48af-a9b5-7c646933b292",
   "metadata": {},
   "outputs": [],
   "source": [
    "# oxtemps.info()\n",
    "# print(oxtemps.describe())\n",
    "# oxtemps.head()"
   ]
  },
  {
   "cell_type": "markdown",
   "id": "3f763b7e-d227-4403-9c58-a05b3174ecf0",
   "metadata": {},
   "source": [
    "## St Louis"
   ]
  },
  {
   "cell_type": "code",
   "execution_count": 15,
   "id": "6ee6a6a1-715b-4fa6-9c78-665d273e1437",
   "metadata": {},
   "outputs": [
    {
     "name": "stderr",
     "output_type": "stream",
     "text": [
      "100%|████████████████████████████████████████████████████████████████████████████████████| 4/4 [00:03<00:00,  1.05it/s]\n"
     ]
    }
   ],
   "source": [
    "sltemps = NOAA.get_noaa_data(station=station_d['STL'], headers=headers, url=url,start = start, end = end)\n",
    "sltemps['station'] = sltemps['station'].map(reverse_station_d)\n",
    "city_data.append(sltemps)"
   ]
  },
  {
   "cell_type": "code",
   "execution_count": 16,
   "id": "68999bea-d73f-4fe8-a47e-106fdbc972b5",
   "metadata": {},
   "outputs": [
    {
     "ename": "NameError",
     "evalue": "name 'current_data' is not defined",
     "output_type": "error",
     "traceback": [
      "\u001b[1;31m---------------------------------------------------------------------------\u001b[0m",
      "\u001b[1;31mNameError\u001b[0m                                 Traceback (most recent call last)",
      "Cell \u001b[1;32mIn[16], line 5\u001b[0m\n\u001b[0;32m      1\u001b[0m \u001b[38;5;66;03m# sltemps.info()\u001b[39;00m\n\u001b[0;32m      2\u001b[0m \u001b[38;5;66;03m# print(sltemps.describe())\u001b[39;00m\n\u001b[0;32m      3\u001b[0m \u001b[38;5;66;03m# sltemps.head()\u001b[39;00m\n\u001b[0;32m      4\u001b[0m \u001b[38;5;66;03m#current_data = pd.read_csv('city_weather_data.csv')\u001b[39;00m\n\u001b[1;32m----> 5\u001b[0m city_data\u001b[38;5;241m.\u001b[39mappend(current_data)\n",
      "\u001b[1;31mNameError\u001b[0m: name 'current_data' is not defined"
     ]
    }
   ],
   "source": [
    "# sltemps.info()\n",
    "# print(sltemps.describe())\n",
    "# sltemps.head()\n",
    "current_data = pd.read_csv('city_weather_data.csv')\n",
    "city_data.append(current_data)"
   ]
  },
  {
   "cell_type": "code",
   "execution_count": 17,
   "id": "039d1c82-8bdb-4cda-afab-ac71a630f2a1",
   "metadata": {},
   "outputs": [],
   "source": [
    "city_data = pd.concat(city_data, ignore_index=True).drop_duplicates()"
   ]
  },
  {
   "cell_type": "code",
   "execution_count": 18,
   "id": "568e39c3-1cee-4050-9ddb-474efe7174bf",
   "metadata": {},
   "outputs": [
    {
     "data": {
      "text/html": [
       "<div>\n",
       "<style scoped>\n",
       "    .dataframe tbody tr th:only-of-type {\n",
       "        vertical-align: middle;\n",
       "    }\n",
       "\n",
       "    .dataframe tbody tr th {\n",
       "        vertical-align: top;\n",
       "    }\n",
       "\n",
       "    .dataframe thead th {\n",
       "        text-align: right;\n",
       "    }\n",
       "</style>\n",
       "<table border=\"1\" class=\"dataframe\">\n",
       "  <thead>\n",
       "    <tr style=\"text-align: right;\">\n",
       "      <th></th>\n",
       "      <th>station</th>\n",
       "      <th>date</th>\n",
       "      <th>PRCP</th>\n",
       "      <th>SNOW</th>\n",
       "      <th>TMAX</th>\n",
       "      <th>TMIN</th>\n",
       "    </tr>\n",
       "  </thead>\n",
       "  <tbody>\n",
       "    <tr>\n",
       "      <th>0</th>\n",
       "      <td>NYC</td>\n",
       "      <td>2022-03-01</td>\n",
       "      <td>0.000</td>\n",
       "      <td>0.0</td>\n",
       "      <td>48.02</td>\n",
       "      <td>31.10</td>\n",
       "    </tr>\n",
       "    <tr>\n",
       "      <th>1</th>\n",
       "      <td>NYC</td>\n",
       "      <td>2022-03-02</td>\n",
       "      <td>0.000</td>\n",
       "      <td>0.0</td>\n",
       "      <td>51.98</td>\n",
       "      <td>39.92</td>\n",
       "    </tr>\n",
       "    <tr>\n",
       "      <th>2</th>\n",
       "      <td>NYC</td>\n",
       "      <td>2022-03-03</td>\n",
       "      <td>0.315</td>\n",
       "      <td>0.0</td>\n",
       "      <td>48.02</td>\n",
       "      <td>24.26</td>\n",
       "    </tr>\n",
       "    <tr>\n",
       "      <th>3</th>\n",
       "      <td>NYC</td>\n",
       "      <td>2022-03-04</td>\n",
       "      <td>0.000</td>\n",
       "      <td>0.0</td>\n",
       "      <td>37.04</td>\n",
       "      <td>21.20</td>\n",
       "    </tr>\n",
       "    <tr>\n",
       "      <th>4</th>\n",
       "      <td>NYC</td>\n",
       "      <td>2022-03-05</td>\n",
       "      <td>0.000</td>\n",
       "      <td>0.0</td>\n",
       "      <td>46.04</td>\n",
       "      <td>32.00</td>\n",
       "    </tr>\n",
       "  </tbody>\n",
       "</table>\n",
       "</div>"
      ],
      "text/plain": [
       "  station        date   PRCP  SNOW   TMAX   TMIN\n",
       "0     NYC  2022-03-01  0.000   0.0  48.02  31.10\n",
       "1     NYC  2022-03-02  0.000   0.0  51.98  39.92\n",
       "2     NYC  2022-03-03  0.315   0.0  48.02  24.26\n",
       "3     NYC  2022-03-04  0.000   0.0  37.04  21.20\n",
       "4     NYC  2022-03-05  0.000   0.0  46.04  32.00"
      ]
     },
     "execution_count": 18,
     "metadata": {},
     "output_type": "execute_result"
    }
   ],
   "source": [
    "city_data.round(4).head()"
   ]
  },
  {
   "cell_type": "code",
   "execution_count": 19,
   "id": "caff72c5-4840-4afc-8a4d-793ea0509726",
   "metadata": {},
   "outputs": [],
   "source": [
    "city_data.to_csv(\"city_weather_data.csv\",index=False)"
   ]
  },
  {
   "cell_type": "code",
   "execution_count": 20,
   "id": "77824482-b94d-4367-a0b5-a6c2f02da84e",
   "metadata": {},
   "outputs": [],
   "source": [
    "df = pd.read_csv(\"city_weather_data.csv\").round(2)"
   ]
  },
  {
   "cell_type": "code",
   "execution_count": 21,
   "id": "9784ce09-c9e3-4332-9574-03c17be1408c",
   "metadata": {},
   "outputs": [
    {
     "data": {
      "text/html": [
       "<div>\n",
       "<style scoped>\n",
       "    .dataframe tbody tr th:only-of-type {\n",
       "        vertical-align: middle;\n",
       "    }\n",
       "\n",
       "    .dataframe tbody tr th {\n",
       "        vertical-align: top;\n",
       "    }\n",
       "\n",
       "    .dataframe thead th {\n",
       "        text-align: right;\n",
       "    }\n",
       "</style>\n",
       "<table border=\"1\" class=\"dataframe\">\n",
       "  <thead>\n",
       "    <tr style=\"text-align: right;\">\n",
       "      <th></th>\n",
       "      <th>PRCP</th>\n",
       "      <th>SNOW</th>\n",
       "      <th>TMAX</th>\n",
       "      <th>TMIN</th>\n",
       "    </tr>\n",
       "  </thead>\n",
       "  <tbody>\n",
       "    <tr>\n",
       "      <th>count</th>\n",
       "      <td>6525.000000</td>\n",
       "      <td>6153.000000</td>\n",
       "      <td>6510.000000</td>\n",
       "      <td>6510.000000</td>\n",
       "    </tr>\n",
       "    <tr>\n",
       "      <th>mean</th>\n",
       "      <td>1.123022</td>\n",
       "      <td>0.045995</td>\n",
       "      <td>66.621355</td>\n",
       "      <td>47.763106</td>\n",
       "    </tr>\n",
       "    <tr>\n",
       "      <th>std</th>\n",
       "      <td>3.372931</td>\n",
       "      <td>0.340503</td>\n",
       "      <td>18.861420</td>\n",
       "      <td>17.229807</td>\n",
       "    </tr>\n",
       "    <tr>\n",
       "      <th>min</th>\n",
       "      <td>0.000000</td>\n",
       "      <td>0.000000</td>\n",
       "      <td>3.200000</td>\n",
       "      <td>-6.880000</td>\n",
       "    </tr>\n",
       "    <tr>\n",
       "      <th>25%</th>\n",
       "      <td>0.000000</td>\n",
       "      <td>0.000000</td>\n",
       "      <td>51.980000</td>\n",
       "      <td>33.980000</td>\n",
       "    </tr>\n",
       "    <tr>\n",
       "      <th>50%</th>\n",
       "      <td>0.000000</td>\n",
       "      <td>0.000000</td>\n",
       "      <td>69.080000</td>\n",
       "      <td>48.020000</td>\n",
       "    </tr>\n",
       "    <tr>\n",
       "      <th>75%</th>\n",
       "      <td>0.430000</td>\n",
       "      <td>0.000000</td>\n",
       "      <td>82.040000</td>\n",
       "      <td>62.960000</td>\n",
       "    </tr>\n",
       "    <tr>\n",
       "      <th>max</th>\n",
       "      <td>86.420000</td>\n",
       "      <td>8.390000</td>\n",
       "      <td>105.980000</td>\n",
       "      <td>84.920000</td>\n",
       "    </tr>\n",
       "  </tbody>\n",
       "</table>\n",
       "</div>"
      ],
      "text/plain": [
       "              PRCP         SNOW         TMAX         TMIN\n",
       "count  6525.000000  6153.000000  6510.000000  6510.000000\n",
       "mean      1.123022     0.045995    66.621355    47.763106\n",
       "std       3.372931     0.340503    18.861420    17.229807\n",
       "min       0.000000     0.000000     3.200000    -6.880000\n",
       "25%       0.000000     0.000000    51.980000    33.980000\n",
       "50%       0.000000     0.000000    69.080000    48.020000\n",
       "75%       0.430000     0.000000    82.040000    62.960000\n",
       "max      86.420000     8.390000   105.980000    84.920000"
      ]
     },
     "execution_count": 21,
     "metadata": {},
     "output_type": "execute_result"
    }
   ],
   "source": [
    "df.describe()"
   ]
  },
  {
   "cell_type": "code",
   "execution_count": null,
   "id": "51c871ff-99db-4ba8-98a1-114ac63d305a",
   "metadata": {},
   "outputs": [],
   "source": []
  }
 ],
 "metadata": {
  "kernelspec": {
   "display_name": "Python 3 (ipykernel)",
   "language": "python",
   "name": "python3"
  },
  "language_info": {
   "codemirror_mode": {
    "name": "ipython",
    "version": 3
   },
   "file_extension": ".py",
   "mimetype": "text/x-python",
   "name": "python",
   "nbconvert_exporter": "python",
   "pygments_lexer": "ipython3",
   "version": "3.11.11"
  }
 },
 "nbformat": 4,
 "nbformat_minor": 5
}
